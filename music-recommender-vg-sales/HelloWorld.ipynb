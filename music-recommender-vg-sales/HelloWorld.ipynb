{
 "cells": [
  {
   "cell_type": "code",
   "execution_count": 7,
   "id": "7291ec94-d5dc-4b3d-95bb-d25fec280ffd",
   "metadata": {},
   "outputs": [],
   "source": [
    "import pandas as pd\n",
    "from sklearn.tree import DecisionTreeClassifier\n",
    "from sklearn.model_selection import train_test_split\n",
    "from sklearn.metrics import accuracy_score\n",
    "from sklearn import tree\n",
    "import joblib\n",
    "\n",
    "md = pd.read_csv('music.csv')\n",
    "X = md.drop(columns=['genre']) # input set X\n",
    "y = md['genre']; # output set y\n"
   ]
  },
  {
   "cell_type": "code",
   "execution_count": 8,
   "id": "710dfbb6-4338-434e-bf23-112c97555a4c",
   "metadata": {},
   "outputs": [
    {
     "data": {
      "text/plain": [
       "(18, 3)"
      ]
     },
     "execution_count": 8,
     "metadata": {},
     "output_type": "execute_result"
    }
   ],
   "source": [
    "md.shape"
   ]
  },
  {
   "cell_type": "code",
   "execution_count": 9,
   "id": "b9eed77a-9fbd-4acf-b56b-e00a6d6972ac",
   "metadata": {},
   "outputs": [
    {
     "data": {
      "text/plain": [
       "<bound method NDFrame.describe of     age  gender      genre\n",
       "0    20       1     HipHop\n",
       "1    23       1     HipHop\n",
       "2    25       1     HipHop\n",
       "3    26       1       Jazz\n",
       "4    29       1       Jazz\n",
       "5    30       1       Jazz\n",
       "6    31       1  Classical\n",
       "7    33       1  Classical\n",
       "8    37       1  Classical\n",
       "9    20       0      Dance\n",
       "10   21       0      Dance\n",
       "11   25       0      Dance\n",
       "12   26       0   Acoustic\n",
       "13   27       0   Acoustic\n",
       "14   30       0   Acoustic\n",
       "15   31       0  Classical\n",
       "16   34       0  Classical\n",
       "17   35       0  Classical>"
      ]
     },
     "execution_count": 9,
     "metadata": {},
     "output_type": "execute_result"
    }
   ],
   "source": [
    "md.describe"
   ]
  },
  {
   "cell_type": "code",
   "execution_count": 10,
   "id": "c9f6305b-8441-4665-a8c1-8f6c7bbec180",
   "metadata": {},
   "outputs": [],
   "source": [
    "# 70-80% of our data allocated to training, the rest for testing\n",
    "X_train, X_test, y_train, y_test = train_test_split(X, y, test_size=0.2)"
   ]
  },
  {
   "cell_type": "code",
   "execution_count": 11,
   "id": "c4260a3a-ef55-4b32-b324-52a75f2c8cbb",
   "metadata": {},
   "outputs": [
    {
     "data": {
      "text/plain": [
       "array(['Classical', 'Dance', 'HipHop', 'Jazz'], dtype=object)"
      ]
     },
     "execution_count": 11,
     "metadata": {},
     "output_type": "execute_result"
    }
   ],
   "source": [
    "# Decision tree algorithm with scikit-learn\n",
    "model = DecisionTreeClassifier()\n",
    "model.fit(X_train, y_train) # inputs\n",
    "p = model.predict(X_test) \n",
    "p"
   ]
  },
  {
   "cell_type": "code",
   "execution_count": 12,
   "id": "8b3723d9-d22e-47c1-bb36-5f9fdca856b8",
   "metadata": {},
   "outputs": [
    {
     "data": {
      "text/plain": [
       "0.5"
      ]
     },
     "execution_count": 12,
     "metadata": {},
     "output_type": "execute_result"
    }
   ],
   "source": [
    "# The accuracy of our model (0-1)\n",
    "score = accuracy_score(y_test, p)\n",
    "score"
   ]
  },
  {
   "cell_type": "code",
   "execution_count": null,
   "id": "1c21362e-74a3-46f3-b8be-a10dcff7daf6",
   "metadata": {},
   "outputs": [],
   "source": [
    "# Storing our model\n",
    "# joblib.dump(model, 'music-recommender.joblib')\n",
    "\n",
    "# Using the model\n",
    "# model = joblib.load('music-recommender.joblib')"
   ]
  },
  {
   "cell_type": "code",
   "execution_count": null,
   "id": "bdeff602-ad68-4ba6-804f-b97b35911eb9",
   "metadata": {},
   "outputs": [],
   "source": [
    "# Decision tree visualization\n",
    "tree.export_graphviz(model, out_file='music-rec.dot', \n",
    "                     feature_names=['age', 'gender'], \n",
    "                     class_names=sorted(y.unique()),\n",
    "                    label='all',\n",
    "                    rounded=True,\n",
    "                    filled=True)"
   ]
  }
 ],
 "metadata": {
  "kernelspec": {
   "display_name": "Python [conda env:base] *",
   "language": "python",
   "name": "conda-base-py"
  },
  "language_info": {
   "codemirror_mode": {
    "name": "ipython",
    "version": 3
   },
   "file_extension": ".py",
   "mimetype": "text/x-python",
   "name": "python",
   "nbconvert_exporter": "python",
   "pygments_lexer": "ipython3",
   "version": "3.13.5"
  }
 },
 "nbformat": 4,
 "nbformat_minor": 5
}
